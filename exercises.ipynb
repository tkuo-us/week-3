{
 "cells": [
  {
   "cell_type": "markdown",
   "id": "0dead82f",
   "metadata": {},
   "source": [
    "<font color='darkred'> Unless otherwise noted, **this notebook will not be reviewed or autograded.**</font> You are welcome to use it for scratchwork, but **only the files listed in the exercises will be checked.**\n",
    "\n",
    "---\n",
    "\n",
    "# Exercises\n",
    "\n",
    "For these exercises, add your functions to the *apputil\\.py* file. If you like, you're welcome to adjust the *app\\.py* file, but it is not required."
   ]
  },
  {
   "cell_type": "markdown",
   "id": "a7ef09a6",
   "metadata": {},
   "source": [
    "## Notes on Recursion\n",
    "\n",
    "A [recursive function](https://www.w3schools.com/python/gloss_python_function_recursion.asp) is one which calls itself.\n",
    "\n",
    "1. When the function is called, your CPU runs through each line of code until the function needs to be called again.\n",
    "2. At that point, all variables are saved in memory, and the function runs through each line of code again until the function is called (again, but with a different passed argument), and so on.\n",
    "3. Eventually, this process will stop at the \"bottom of the **stack**\", where the function doesn't get a chance to call itself again (likely because of some condition un/met by the latest passed argument).\n",
    "4. Then, your CPU will work its way back up the stack to the final result. For example, take a look at [this visual example](https://realpython.com/python-recursion/#calculate-factorial) of calculating 4!.\n",
    "\n",
    "When you write these functions, keep two things in mind:\n",
    "\n",
    "- You will need a built-in stopping point (i.e., the \"bottom\"), where your function returns some result before it calls itself.\n",
    "- **Don't think too hard about this.** Recursion can be perplexing to conceptualize when writing the code. So, when you call the function inside the function, think about it as a magical \"hidden\" function that has already done what you want it to do.\n",
    "- [Python Tutor](https://pythontutor.com/) ([editor](https://pythontutor.com/visualize.html#mode=edit)) can be a helpful resource for this exercise!\n",
    "\n",
    "## Exercise 1\n",
    "\n",
    "The Fibonacci Series starts with 0 and 1. Each of the following numbers are the sum of the previous two numbers in the series:\n",
    "\n",
    "`0 1 1 2 3 5 8 13 21 34 ...`\n",
    "\n",
    "So, `fib(9) = 34`.\n",
    "\n",
    "Write a recursive function (`fib`) that, given `n`, will return the `n`th number of the Fibonacci Series.\n",
    "\n",
    "*Test your function using Google or any other tool that can calculate the Fibonacci Series.*"
   ]
  },
  {
   "cell_type": "code",
   "execution_count": 1,
   "id": "10b9210f",
   "metadata": {},
   "outputs": [
    {
     "name": "stdout",
     "output_type": "stream",
     "text": [
      "34\n"
     ]
    }
   ],
   "source": [
    "def fib(n):\n",
    "    if n == 0:\n",
    "        return 0\n",
    "    elif n == 1:\n",
    "        return 1\n",
    "    else:\n",
    "        return fib(n-1) + fib(n-2)\n",
    "    \n",
    "print(fib(9))  # 0(0) 1(1) 1(2) 2(3) 3(4) 5(5) 8(6) 13(7) 21(8) 34(9) ..."
   ]
  },
  {
   "cell_type": "markdown",
   "id": "4bef64e9",
   "metadata": {},
   "source": [
    "\n",
    "## Exercise 2\n",
    "\n",
    "Write a (single) recursive function, `to_binary()`, that [converts](https://en.wikipedia.org/wiki/Binary_number#Conversion_to_and_from_other_numeral_systems) an integer into its [binary](https://en.wikipedia.org/wiki/Binary_number) representation. So, for example:\n",
    "\n",
    "```python\n",
    "to_binary(2)   -->  10\n",
    "to_binary(12)  -->  1100\n",
    "```\n",
    "\n",
    "*Note: you can test your function with the built in `bin()` function.*"
   ]
  },
  {
   "cell_type": "code",
   "execution_count": 2,
   "id": "eb033460",
   "metadata": {},
   "outputs": [
    {
     "name": "stdout",
     "output_type": "stream",
     "text": [
      "0\n",
      "1\n",
      "10\n",
      "1100\n"
     ]
    }
   ],
   "source": [
    "def to_binary(n):\n",
    "    if n == 0:\n",
    "        return \"0\"\n",
    "    elif n == 1:\n",
    "        return \"1\"\n",
    "    else:\n",
    "        return to_binary(n // 2) + str(n % 2)\n",
    "    \"\"\"\n",
    "    Converts an Integer into a Binary String\n",
    "    0(0) 1(1) 2(10) 3(11) 4(100) 5(101) 6(110) 7(111) 8(1000) 9(1001) ...\n",
    "    \"\"\"\n",
    "\n",
    "print(to_binary(0))   # \"0\"\n",
    "print(to_binary(1))   # \"1\"   \n",
    "print(to_binary(2))   # \"10\"\n",
    "print(to_binary(12))  # \"1100\""
   ]
  },
  {
   "cell_type": "markdown",
   "id": "dd991538",
   "metadata": {},
   "source": [
    "## Exercise 3 \n",
    "\n",
    "Use the raw Bellevue Almshouse Dataset (`df_bellevue`) extracted at the top of the lab (i.e., with `pd.read_csv ...`).\n",
    "\n",
    "**Write a function for each of the following tasks. Name these functions `task_i()`** (i.e., without any input arguments).\n",
    "\n",
    "1. Return a list of all column names, *sorted* such that the first column has the *least* missing values, and the last column has the *most* missing values (use the raw column names).\n",
    "   - *Note: there is an issue with the `gender` column you'll need to remedy first ...*\n",
    "2. Return a **data frame** with two columns:\n",
    "   - the year (for each year in the data), `year`\n",
    "   - the total number of entries (immigrant admissions) for each year, `total_admissions`\n",
    "3. Return a **series** with:\n",
    "   - Index: gender (for each gender in the data)\n",
    "   - Values: the average age for the indexed gender.\n",
    "4. Return a list of the 5 most common professions *in order of prevalence* (so, the most common is first).\n",
    "\n",
    "For each of these, if there are messy data issues, use the `print` statement to explain.\n"
   ]
  },
  {
   "cell_type": "code",
   "execution_count": 3,
   "id": "5993ce51",
   "metadata": {},
   "outputs": [
    {
     "name": "stdout",
     "output_type": "stream",
     "text": [
      "Task 1:\n",
      "date_in          0\n",
      "last_name        0\n",
      "gender           0\n",
      "year             0\n",
      "first_name       4\n",
      "age             50\n",
      "profession    1019\n",
      "disease       3087\n",
      "children      9547\n",
      "dtype: int64\n",
      "Columns by fewest NA -> most NA::\n",
      " ['date_in', 'last_name', 'gender', 'year', 'first_name', 'age', 'profession', 'disease', 'children']\n",
      "\n",
      "\n",
      "Task 2:\n",
      "   year  total_admissions\n",
      "0  1846              3073\n",
      "1  1847              6511\n",
      "\n",
      "\n",
      "Task 3 (avg age by gender):\n",
      "gender\n",
      "m    31.813433\n",
      "w    28.725162\n",
      "Name: age, dtype: float64\n",
      "\n",
      "\n",
      "Task 4:\n",
      "TOP 5 professions: ['laborer', 'married', 'spinster', 'widow', 'shoemaker']\n"
     ]
    }
   ],
   "source": [
    "import pandas as pd\n",
    "\n",
    "url = 'https://github.com/melaniewalsh/Intro-Cultural-Analytics/raw/master/book/data/bellevue_almshouse_modified.csv'\n",
    "df_bellevue = pd.read_csv(url)\n",
    "\n",
    "df_bellevue[\"date_in\"] = pd.to_datetime(df_bellevue[\"date_in\"], errors=\"coerce\")\n",
    "df_bellevue[\"year\"] = df_bellevue[\"date_in\"].dt.year\n",
    "\n",
    "def task_1():\n",
    "    \"\"\"\n",
    "    Return a list of all column names in df_bellevue\n",
    "    Sorted by the number of NA values in each column, from fewest NA values to most NA values.\n",
    "    \"\"\"\n",
    "    return df_bellevue.isna().sum().sort_values().index.tolist()\n",
    "\n",
    "print(\"Task 1:\")\n",
    "print(df_bellevue.isna().sum().sort_values())\n",
    "print(\"Columns by fewest NA -> most NA::\\n\", task_1())\n",
    "print(\"\\n\")\n",
    "\n",
    "def task_2():\n",
    "    \"\"\"\n",
    "    Return total number of entries for each year：\n",
    "    - year\n",
    "    - total_admissions\n",
    "    \"\"\"\n",
    "    output = (\n",
    "        df_bellevue\n",
    "        .dropna(subset=[\"year\"])                # year is NaN for some rows\n",
    "        .groupby(\"year\", as_index=False)\n",
    "        .size()\n",
    "        .rename(columns={\"size\": \"total_admissions\"})\n",
    "        .sort_values(\"year\")\n",
    "        .reset_index(drop=True)\n",
    "    )\n",
    "    return output\n",
    "\n",
    "print(\"Task 2:\")\n",
    "print(task_2().head())\n",
    "print(\"\\n\")\n",
    "\n",
    "def task_3():\n",
    "    \"\"\"\n",
    "    Return the average age of genders \"m\" and \"w\"\n",
    "    as a Series indexed by\n",
    "    \"\"\"\n",
    "    tmp = df_bellevue.copy()\n",
    "    tmp[\"age\"] = pd.to_numeric(tmp[\"age\"], errors=\"coerce\")\n",
    "    tmp[\"gender\"] = tmp[\"gender\"].str.lower().str.strip() # normalize\n",
    "    tmp.loc[~tmp[\"gender\"].isin([\"m\", \"w\"]), \"gender\"] = pd.NA # only keep \"m\" and \"w\", set others to NA\n",
    "    return tmp.groupby(\"gender\")[\"age\"].mean()\n",
    "\n",
    "print(\"Task 3 (avg age by gender):\")\n",
    "print(task_3())\n",
    "print(\"\\n\")\n",
    "\n",
    "def task_4():\n",
    "    \"\"\"\n",
    "    Return TOP 5 profession\n",
    "    \"\"\"\n",
    "    return (\n",
    "        df_bellevue[\"profession\"]\n",
    "        .dropna()\n",
    "        .astype(str)\n",
    "        .str.strip()\n",
    "        .value_counts()\n",
    "        .head(5)\n",
    "        .index\n",
    "        .tolist()\n",
    "    )\n",
    "\n",
    "print(\"Task 4:\")\n",
    "print(\"TOP 5 professions:\", task_4())"
   ]
  }
 ],
 "metadata": {
  "kernelspec": {
   "display_name": "base",
   "language": "python",
   "name": "python3"
  },
  "language_info": {
   "codemirror_mode": {
    "name": "ipython",
    "version": 3
   },
   "file_extension": ".py",
   "mimetype": "text/x-python",
   "name": "python",
   "nbconvert_exporter": "python",
   "pygments_lexer": "ipython3",
   "version": "3.11.11"
  }
 },
 "nbformat": 4,
 "nbformat_minor": 5
}
